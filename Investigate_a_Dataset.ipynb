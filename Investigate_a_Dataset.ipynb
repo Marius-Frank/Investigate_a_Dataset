{
 "cells": [
  {
   "cell_type": "markdown",
   "metadata": {},
   "source": [
    "> **Tip**: Welcome to the Investigate a Dataset project! You will find tips in quoted sections like this to help organize your approach to your investigation. Once you complete this project, remove these **Tip** sections from your report before submission. First things first, you might want to double-click this Markdown cell and change the title so that it reflects your dataset and investigation.\n",
    "\n",
    "# Project: Investigate a Dataset - Medical Appointments\n",
    "\n",
    "## Table of Contents\n",
    "<ul>\n",
    "<li><a href=\"#intro\">Introduction</a></li>\n",
    "<li><a href=\"#wrangling\">Data Wrangling</a></li>\n",
    "<li><a href=\"#eda\">Exploratory Data Analysis</a></li>\n",
    "<li><a href=\"#conclusions\">Conclusions</a></li>\n",
    "</ul>"
   ]
  },
  {
   "cell_type": "markdown",
   "metadata": {},
   "source": [
    "<a id='intro'></a>\n",
    "## Introduction\n",
    "\n",
    "### Dataset Description \n",
    "\n",
    "The dataset contains medical patient's data along with information on whether the patient attended or missed the appointment.\n",
    "The dataset contains the following columns in a single table: <br>\n",
    "<b>PatientID</b>: ID of patient - insignificant <br>\n",
    "<b>AppointmentID</b>: ID of appointment - insignificant <br>\n",
    "<b>Gender</b>: Gender of patient - signifcant and interesting but will not be analysed here <br>\n",
    "<b>ScheduledDay</b>: Day the appointment was scheduled - on its own not interesting but in combination with AppointmendDay it becomes highly significant <br>\n",
    "<b>AppointmentDay</b>: Day of the actual appointment - on its own not interesting but in combination with ScheduledDay it becomes highly significant <br>\n",
    "<b>Age</b>: Age of the patient - Significant and interesting to look at correlation between age and missing an appointment <br>\n",
    "<b>Neighbourhood</b>: Region where the appointment takes place - would only be signicant/interesting if one would know the region very well <br>\n",
    "<b>Scholarship, Hypertension, Diabetes, Alocolism, Handcap, SMS_received</b>: Binary variables which indicate whether the patient fulfills the respective condition such as having Diabetes or receiving a SMS reminder for the appointment - Significant since there may potentially be a correlation between missing an appointment and having one or more of those conditions<br>\n",
    "<b>No-Show</b>: Binary variable (target) which indicates whether a patient showed up to an appointment of missed it - obviously significant since it is the target variable <br>\n",
    "\n",
    "### Question(s) for Analysis\n",
    "<h6> Research Question 1</h6>\n",
    "Does fulfilling a certain condition (scholarship, alcoholism, diabetes, hypertension, having a handycap or receiving a SMS reminder) increase/decrease the chance of missing an appointment?\n",
    "\n",
    "<h6> Research Question 2</h6>\n",
    "Does the timeframe between scheduling an appointment and the actual appointment affect the number of appointments missed?"
   ]
  },
  {
   "cell_type": "code",
   "execution_count": 34,
   "metadata": {},
   "outputs": [],
   "source": [
    "import pandas as pd\n",
    "import numpy as np\n",
    "import matplotlib.pyplot as plt\n",
    "import seaborn as sns\n",
    "%matplotlib inline"
   ]
  },
  {
   "cell_type": "code",
   "execution_count": 2,
   "metadata": {},
   "outputs": [],
   "source": [
    "# Upgrade pandas to use dataframe.explode() function. \n",
    "#!pip install --upgrade pandas==0.25.0"
   ]
  },
  {
   "cell_type": "markdown",
   "metadata": {},
   "source": [
    "<a id='wrangling'></a>\n",
    "## Data Wrangling\n",
    "\n",
    "> **Tip**: In this section of the report, you will load in the data, check for cleanliness, and then trim and clean your dataset for analysis. Make sure that you **document your data cleaning steps in mark-down cells precisely and justify your cleaning decisions.**\n",
    "\n",
    "\n",
    "### General Properties\n",
    "> **Tip**: You should _not_ perform too many operations in each cell. Create cells freely to explore your data. One option that you can take with this project is to do a lot of explorations in an initial notebook. These don't have to be organized, but make sure you use enough comments to understand the purpose of each code cell. Then, after you're done with your analysis, create a duplicate notebook where you will trim the excess and organize your steps so that you have a flowing, cohesive report."
   ]
  },
  {
   "cell_type": "markdown",
   "metadata": {},
   "source": [
    "Start by getting an overview over the dataframe."
   ]
  },
  {
   "cell_type": "code",
   "execution_count": 3,
   "metadata": {},
   "outputs": [
    {
     "data": {
      "text/html": [
       "<div>\n",
       "<style scoped>\n",
       "    .dataframe tbody tr th:only-of-type {\n",
       "        vertical-align: middle;\n",
       "    }\n",
       "\n",
       "    .dataframe tbody tr th {\n",
       "        vertical-align: top;\n",
       "    }\n",
       "\n",
       "    .dataframe thead th {\n",
       "        text-align: right;\n",
       "    }\n",
       "</style>\n",
       "<table border=\"1\" class=\"dataframe\">\n",
       "  <thead>\n",
       "    <tr style=\"text-align: right;\">\n",
       "      <th></th>\n",
       "      <th>PatientId</th>\n",
       "      <th>AppointmentID</th>\n",
       "      <th>Gender</th>\n",
       "      <th>ScheduledDay</th>\n",
       "      <th>AppointmentDay</th>\n",
       "      <th>Age</th>\n",
       "      <th>Neighbourhood</th>\n",
       "      <th>Scholarship</th>\n",
       "      <th>Hipertension</th>\n",
       "      <th>Diabetes</th>\n",
       "      <th>Alcoholism</th>\n",
       "      <th>Handcap</th>\n",
       "      <th>SMS_received</th>\n",
       "      <th>No-show</th>\n",
       "    </tr>\n",
       "  </thead>\n",
       "  <tbody>\n",
       "    <tr>\n",
       "      <th>0</th>\n",
       "      <td>2.987250e+13</td>\n",
       "      <td>5642903</td>\n",
       "      <td>F</td>\n",
       "      <td>2016-04-29T18:38:08Z</td>\n",
       "      <td>2016-04-29T00:00:00Z</td>\n",
       "      <td>62</td>\n",
       "      <td>JARDIM DA PENHA</td>\n",
       "      <td>0</td>\n",
       "      <td>1</td>\n",
       "      <td>0</td>\n",
       "      <td>0</td>\n",
       "      <td>0</td>\n",
       "      <td>0</td>\n",
       "      <td>No</td>\n",
       "    </tr>\n",
       "    <tr>\n",
       "      <th>1</th>\n",
       "      <td>5.589978e+14</td>\n",
       "      <td>5642503</td>\n",
       "      <td>M</td>\n",
       "      <td>2016-04-29T16:08:27Z</td>\n",
       "      <td>2016-04-29T00:00:00Z</td>\n",
       "      <td>56</td>\n",
       "      <td>JARDIM DA PENHA</td>\n",
       "      <td>0</td>\n",
       "      <td>0</td>\n",
       "      <td>0</td>\n",
       "      <td>0</td>\n",
       "      <td>0</td>\n",
       "      <td>0</td>\n",
       "      <td>No</td>\n",
       "    </tr>\n",
       "    <tr>\n",
       "      <th>2</th>\n",
       "      <td>4.262962e+12</td>\n",
       "      <td>5642549</td>\n",
       "      <td>F</td>\n",
       "      <td>2016-04-29T16:19:04Z</td>\n",
       "      <td>2016-04-29T00:00:00Z</td>\n",
       "      <td>62</td>\n",
       "      <td>MATA DA PRAIA</td>\n",
       "      <td>0</td>\n",
       "      <td>0</td>\n",
       "      <td>0</td>\n",
       "      <td>0</td>\n",
       "      <td>0</td>\n",
       "      <td>0</td>\n",
       "      <td>No</td>\n",
       "    </tr>\n",
       "    <tr>\n",
       "      <th>3</th>\n",
       "      <td>8.679512e+11</td>\n",
       "      <td>5642828</td>\n",
       "      <td>F</td>\n",
       "      <td>2016-04-29T17:29:31Z</td>\n",
       "      <td>2016-04-29T00:00:00Z</td>\n",
       "      <td>8</td>\n",
       "      <td>PONTAL DE CAMBURI</td>\n",
       "      <td>0</td>\n",
       "      <td>0</td>\n",
       "      <td>0</td>\n",
       "      <td>0</td>\n",
       "      <td>0</td>\n",
       "      <td>0</td>\n",
       "      <td>No</td>\n",
       "    </tr>\n",
       "    <tr>\n",
       "      <th>4</th>\n",
       "      <td>8.841186e+12</td>\n",
       "      <td>5642494</td>\n",
       "      <td>F</td>\n",
       "      <td>2016-04-29T16:07:23Z</td>\n",
       "      <td>2016-04-29T00:00:00Z</td>\n",
       "      <td>56</td>\n",
       "      <td>JARDIM DA PENHA</td>\n",
       "      <td>0</td>\n",
       "      <td>1</td>\n",
       "      <td>1</td>\n",
       "      <td>0</td>\n",
       "      <td>0</td>\n",
       "      <td>0</td>\n",
       "      <td>No</td>\n",
       "    </tr>\n",
       "  </tbody>\n",
       "</table>\n",
       "</div>"
      ],
      "text/plain": [
       "      PatientId  AppointmentID Gender          ScheduledDay  \\\n",
       "0  2.987250e+13        5642903      F  2016-04-29T18:38:08Z   \n",
       "1  5.589978e+14        5642503      M  2016-04-29T16:08:27Z   \n",
       "2  4.262962e+12        5642549      F  2016-04-29T16:19:04Z   \n",
       "3  8.679512e+11        5642828      F  2016-04-29T17:29:31Z   \n",
       "4  8.841186e+12        5642494      F  2016-04-29T16:07:23Z   \n",
       "\n",
       "         AppointmentDay  Age      Neighbourhood  Scholarship  Hipertension  \\\n",
       "0  2016-04-29T00:00:00Z   62    JARDIM DA PENHA            0             1   \n",
       "1  2016-04-29T00:00:00Z   56    JARDIM DA PENHA            0             0   \n",
       "2  2016-04-29T00:00:00Z   62      MATA DA PRAIA            0             0   \n",
       "3  2016-04-29T00:00:00Z    8  PONTAL DE CAMBURI            0             0   \n",
       "4  2016-04-29T00:00:00Z   56    JARDIM DA PENHA            0             1   \n",
       "\n",
       "   Diabetes  Alcoholism  Handcap  SMS_received No-show  \n",
       "0         0           0        0             0      No  \n",
       "1         0           0        0             0      No  \n",
       "2         0           0        0             0      No  \n",
       "3         0           0        0             0      No  \n",
       "4         1           0        0             0      No  "
      ]
     },
     "execution_count": 3,
     "metadata": {},
     "output_type": "execute_result"
    }
   ],
   "source": [
    "# Load your data and print out a few lines. Perform operations to inspect data\n",
    "#   types and look for instances of missing or possibly errant data.\n",
    "df = pd.read_csv('noshowappointments-kagglev2-may-2016.csv')\n",
    "df.head()"
   ]
  },
  {
   "cell_type": "markdown",
   "metadata": {},
   "source": [
    "Check if and how many NaN values are present in the dataframe?"
   ]
  },
  {
   "cell_type": "code",
   "execution_count": 4,
   "metadata": {},
   "outputs": [
    {
     "data": {
      "text/plain": [
       "PatientId         0\n",
       "AppointmentID     0\n",
       "Gender            0\n",
       "ScheduledDay      0\n",
       "AppointmentDay    0\n",
       "Age               0\n",
       "Neighbourhood     0\n",
       "Scholarship       0\n",
       "Hipertension      0\n",
       "Diabetes          0\n",
       "Alcoholism        0\n",
       "Handcap           0\n",
       "SMS_received      0\n",
       "No-show           0\n",
       "dtype: int64"
      ]
     },
     "execution_count": 4,
     "metadata": {},
     "output_type": "execute_result"
    }
   ],
   "source": [
    "# Are there any null or NaN values?\n",
    "df[df.isna()==True].count()"
   ]
  },
  {
   "cell_type": "markdown",
   "metadata": {},
   "source": [
    "It seems like there are no NaNs in our dataframe. The next step should be to check the data types on of the columns to see whether there is anything which needs to be corrected."
   ]
  },
  {
   "cell_type": "code",
   "execution_count": 5,
   "metadata": {},
   "outputs": [
    {
     "name": "stdout",
     "output_type": "stream",
     "text": [
      "<class 'pandas.core.frame.DataFrame'>\n",
      "RangeIndex: 110527 entries, 0 to 110526\n",
      "Data columns (total 14 columns):\n",
      " #   Column          Non-Null Count   Dtype  \n",
      "---  ------          --------------   -----  \n",
      " 0   PatientId       110527 non-null  float64\n",
      " 1   AppointmentID   110527 non-null  int64  \n",
      " 2   Gender          110527 non-null  object \n",
      " 3   ScheduledDay    110527 non-null  object \n",
      " 4   AppointmentDay  110527 non-null  object \n",
      " 5   Age             110527 non-null  int64  \n",
      " 6   Neighbourhood   110527 non-null  object \n",
      " 7   Scholarship     110527 non-null  int64  \n",
      " 8   Hipertension    110527 non-null  int64  \n",
      " 9   Diabetes        110527 non-null  int64  \n",
      " 10  Alcoholism      110527 non-null  int64  \n",
      " 11  Handcap         110527 non-null  int64  \n",
      " 12  SMS_received    110527 non-null  int64  \n",
      " 13  No-show         110527 non-null  object \n",
      "dtypes: float64(1), int64(8), object(5)\n",
      "memory usage: 11.8+ MB\n"
     ]
    }
   ],
   "source": [
    "# Check data types and get overview\n",
    "df.info()"
   ]
  },
  {
   "cell_type": "markdown",
   "metadata": {},
   "source": [
    "It seems like all columns have the correct data type corresponding to their representation in the table.<br>\n",
    "Next, check whether there are any duplicated data."
   ]
  },
  {
   "cell_type": "code",
   "execution_count": 6,
   "metadata": {},
   "outputs": [
    {
     "data": {
      "text/plain": [
       "0"
      ]
     },
     "execution_count": 6,
     "metadata": {},
     "output_type": "execute_result"
    }
   ],
   "source": [
    "# Do we have any duplicate data?\n",
    "df[df.duplicated()].shape[0]"
   ]
  },
  {
   "cell_type": "markdown",
   "metadata": {},
   "source": [
    "There are no duplicated data.<br>\n",
    "However, even though all data are of correct type and there are no Null/NaN values, we might still have\n",
    "columns where the data do not make sense/are unlogical.<br>\n",
    "Hence, we need to check whether there are any columns, which should have a fixed, with values \n",
    "outside of that range."
   ]
  },
  {
   "cell_type": "code",
   "execution_count": 7,
   "metadata": {},
   "outputs": [
    {
     "data": {
      "text/plain": [
       "Scholarship      True\n",
       "Hipertension     True\n",
       "Diabetes         True\n",
       "Alcoholism       True\n",
       "Handcap         False\n",
       "SMS_received     True\n",
       "dtype: bool"
      ]
     },
     "execution_count": 7,
     "metadata": {},
     "output_type": "execute_result"
    }
   ],
   "source": [
    "# Does any of the binary ('Yes', 'No') columns have errneous values (not in [0, 1])?\n",
    "cols_bin = df.columns[7:13]\n",
    "df[cols_bin].isin([0,1]).all()"
   ]
  },
  {
   "cell_type": "markdown",
   "metadata": {},
   "source": [
    "From these results, it becomes obvious that the \"Handcap\" column contains data outside of the binary range,\n",
    "which need to be investigated and cleaned."
   ]
  },
  {
   "cell_type": "markdown",
   "metadata": {},
   "source": [
    "\n",
    "### Data Cleaning\n",
    "> **Tip**: Make sure that you keep your reader informed on the steps that you are taking in your investigation. Follow every code cell, or every set of related code cells, with a markdown cell to describe to the reader what was found in the preceding cell(s). Try to make it so that the reader can then understand what they will be seeing in the following cell(s).\n",
    " "
   ]
  },
  {
   "cell_type": "markdown",
   "metadata": {},
   "source": [
    "The \"PatientID\" and \"AppointmentID\" columns do not contain any valuable information. Hence, we simply remove them from the dataframe."
   ]
  },
  {
   "cell_type": "code",
   "execution_count": 8,
   "metadata": {},
   "outputs": [],
   "source": [
    "# Remove irrelevant information from dataframe\n",
    "df.drop(['PatientId','AppointmentID'], axis=1, inplace=True)"
   ]
  },
  {
   "cell_type": "markdown",
   "metadata": {},
   "source": [
    "The \"AppoinemtntDay\" column only contains information about the date but not about the time while the \"ScheduledDay\" column also contains information about the time. However, if we are interested in the time difference between these two events, the information obtained is limited by the \"AppointmentDay\" column, i.e. we can only extract information to the resolution of days. Hence, it is a reasonable choice to cut off the unusable time information, which is done below.\n",
    "<br><br>\n",
    "Additionally, we need to convert the current string object format of these columns to a datetime format:"
   ]
  },
  {
   "cell_type": "code",
   "execution_count": 9,
   "metadata": {},
   "outputs": [],
   "source": [
    "# After discussing the structure of the data and any problems that need to be\n",
    "#   cleaned, perform those cleaning steps in the second part of this section.\n",
    "\n",
    "# Since AppointmentDay does not contain time information, our significant figures are limited by the days\n",
    "# => Cut off unnecessary time information\n",
    "df['ScheduledDay'] = pd.to_datetime(df['ScheduledDay']).dt.normalize()\n",
    "df['AppointmentDay'] = pd.to_datetime(df['AppointmentDay']).dt.normalize()"
   ]
  },
  {
   "cell_type": "markdown",
   "metadata": {},
   "source": [
    "Next, we need to check whether there are any unreasonable appointments, where the appointment is supposed to take place before the scheduling. First, we create a mask for these types of appointments and check if and how many of them exist:"
   ]
  },
  {
   "cell_type": "code",
   "execution_count": 10,
   "metadata": {},
   "outputs": [
    {
     "data": {
      "text/html": [
       "<div>\n",
       "<style scoped>\n",
       "    .dataframe tbody tr th:only-of-type {\n",
       "        vertical-align: middle;\n",
       "    }\n",
       "\n",
       "    .dataframe tbody tr th {\n",
       "        vertical-align: top;\n",
       "    }\n",
       "\n",
       "    .dataframe thead th {\n",
       "        text-align: right;\n",
       "    }\n",
       "</style>\n",
       "<table border=\"1\" class=\"dataframe\">\n",
       "  <thead>\n",
       "    <tr style=\"text-align: right;\">\n",
       "      <th></th>\n",
       "      <th>Gender</th>\n",
       "      <th>ScheduledDay</th>\n",
       "      <th>AppointmentDay</th>\n",
       "      <th>Age</th>\n",
       "      <th>Neighbourhood</th>\n",
       "      <th>Scholarship</th>\n",
       "      <th>Hipertension</th>\n",
       "      <th>Diabetes</th>\n",
       "      <th>Alcoholism</th>\n",
       "      <th>Handcap</th>\n",
       "      <th>SMS_received</th>\n",
       "      <th>No-show</th>\n",
       "    </tr>\n",
       "  </thead>\n",
       "  <tbody>\n",
       "    <tr>\n",
       "      <th>27033</th>\n",
       "      <td>M</td>\n",
       "      <td>2016-05-10 00:00:00+00:00</td>\n",
       "      <td>2016-05-09 00:00:00+00:00</td>\n",
       "      <td>38</td>\n",
       "      <td>RESISTÊNCIA</td>\n",
       "      <td>0</td>\n",
       "      <td>0</td>\n",
       "      <td>0</td>\n",
       "      <td>0</td>\n",
       "      <td>1</td>\n",
       "      <td>0</td>\n",
       "      <td>Yes</td>\n",
       "    </tr>\n",
       "    <tr>\n",
       "      <th>55226</th>\n",
       "      <td>F</td>\n",
       "      <td>2016-05-18 00:00:00+00:00</td>\n",
       "      <td>2016-05-17 00:00:00+00:00</td>\n",
       "      <td>19</td>\n",
       "      <td>SANTO ANTÔNIO</td>\n",
       "      <td>0</td>\n",
       "      <td>0</td>\n",
       "      <td>0</td>\n",
       "      <td>0</td>\n",
       "      <td>1</td>\n",
       "      <td>0</td>\n",
       "      <td>Yes</td>\n",
       "    </tr>\n",
       "    <tr>\n",
       "      <th>64175</th>\n",
       "      <td>F</td>\n",
       "      <td>2016-05-05 00:00:00+00:00</td>\n",
       "      <td>2016-05-04 00:00:00+00:00</td>\n",
       "      <td>22</td>\n",
       "      <td>CONSOLAÇÃO</td>\n",
       "      <td>0</td>\n",
       "      <td>0</td>\n",
       "      <td>0</td>\n",
       "      <td>0</td>\n",
       "      <td>0</td>\n",
       "      <td>0</td>\n",
       "      <td>Yes</td>\n",
       "    </tr>\n",
       "    <tr>\n",
       "      <th>71533</th>\n",
       "      <td>F</td>\n",
       "      <td>2016-05-11 00:00:00+00:00</td>\n",
       "      <td>2016-05-05 00:00:00+00:00</td>\n",
       "      <td>81</td>\n",
       "      <td>SANTO ANTÔNIO</td>\n",
       "      <td>0</td>\n",
       "      <td>0</td>\n",
       "      <td>0</td>\n",
       "      <td>0</td>\n",
       "      <td>0</td>\n",
       "      <td>0</td>\n",
       "      <td>Yes</td>\n",
       "    </tr>\n",
       "    <tr>\n",
       "      <th>72362</th>\n",
       "      <td>M</td>\n",
       "      <td>2016-05-04 00:00:00+00:00</td>\n",
       "      <td>2016-05-03 00:00:00+00:00</td>\n",
       "      <td>7</td>\n",
       "      <td>TABUAZEIRO</td>\n",
       "      <td>0</td>\n",
       "      <td>0</td>\n",
       "      <td>0</td>\n",
       "      <td>0</td>\n",
       "      <td>0</td>\n",
       "      <td>0</td>\n",
       "      <td>Yes</td>\n",
       "    </tr>\n",
       "  </tbody>\n",
       "</table>\n",
       "</div>"
      ],
      "text/plain": [
       "      Gender              ScheduledDay            AppointmentDay  Age  \\\n",
       "27033      M 2016-05-10 00:00:00+00:00 2016-05-09 00:00:00+00:00   38   \n",
       "55226      F 2016-05-18 00:00:00+00:00 2016-05-17 00:00:00+00:00   19   \n",
       "64175      F 2016-05-05 00:00:00+00:00 2016-05-04 00:00:00+00:00   22   \n",
       "71533      F 2016-05-11 00:00:00+00:00 2016-05-05 00:00:00+00:00   81   \n",
       "72362      M 2016-05-04 00:00:00+00:00 2016-05-03 00:00:00+00:00    7   \n",
       "\n",
       "       Neighbourhood  Scholarship  Hipertension  Diabetes  Alcoholism  \\\n",
       "27033    RESISTÊNCIA            0             0         0           0   \n",
       "55226  SANTO ANTÔNIO            0             0         0           0   \n",
       "64175     CONSOLAÇÃO            0             0         0           0   \n",
       "71533  SANTO ANTÔNIO            0             0         0           0   \n",
       "72362     TABUAZEIRO            0             0         0           0   \n",
       "\n",
       "       Handcap  SMS_received No-show  \n",
       "27033        1             0     Yes  \n",
       "55226        1             0     Yes  \n",
       "64175        0             0     Yes  \n",
       "71533        0             0     Yes  \n",
       "72362        0             0     Yes  "
      ]
     },
     "execution_count": 10,
     "metadata": {},
     "output_type": "execute_result"
    }
   ],
   "source": [
    "# Are there any unlogical appointments where Scheduled day is earlier than appointment day?\n",
    "lunlogical = df['AppointmentDay']-df['ScheduledDay'] < pd.Timedelta(0)\n",
    "df[lunlogical]"
   ]
  },
  {
   "cell_type": "markdown",
   "metadata": {},
   "source": [
    "Apparently, there are only 5 rows, which contain such unlogical appointments.\n",
    "\n",
    "We should check how this number compares to our total amount of data:"
   ]
  },
  {
   "cell_type": "code",
   "execution_count": 11,
   "metadata": {},
   "outputs": [
    {
     "name": "stdout",
     "output_type": "stream",
     "text": [
      "Percentage of unlogical records 0.022402437385187508\n"
     ]
    }
   ],
   "source": [
    "# All unlogical appointments have No-Show=Yes.\n",
    "# => Check fraction of these with respect to total number of No-Show=Yes appointments.\n",
    "print(\"Percentage of unlogical records\", \n",
    "      ( df[lunlogical].shape[0] / df[df['No-show']=='Yes'].shape[0]*100 ) )"
   ]
  },
  {
   "cell_type": "markdown",
   "metadata": {},
   "source": [
    "As seen above, the fraction of unlogical appointment only amounts to about 0.02 %, which is an insignificant amount of data.\n",
    "\n",
    "Hence, it should be a reasonable choice to simply delete these data from our table."
   ]
  },
  {
   "cell_type": "code",
   "execution_count": 12,
   "metadata": {},
   "outputs": [],
   "source": [
    "# Fraction of unlogical appointments is very small. Should be no problem to just remove these records.\n",
    "df.drop(df[lunlogical].index, inplace=True)"
   ]
  },
  {
   "cell_type": "markdown",
   "metadata": {},
   "source": [
    "Next, we compute the time difference between scheduling and the actual appointment. We will save this information in a new coluumn for later analysis."
   ]
  },
  {
   "cell_type": "code",
   "execution_count": 13,
   "metadata": {},
   "outputs": [],
   "source": [
    "# Save information on time difference between scheduling and actual appointment\n",
    "df['TimeDiff'] = df['AppointmentDay'] - df['ScheduledDay']"
   ]
  },
  {
   "cell_type": "markdown",
   "metadata": {},
   "source": [
    "Since the double negations in our dependent variable \"No-Show\" are somewhat cumbersome to work with and not that easily interpretable, we simply invert the logic to make interpretations easier.\n",
    "<br><br>\n",
    "Furthermore, we convert the \"Yes\" and \"No\" into binary integers {0, 1}, which will be required for the EDA."
   ]
  },
  {
   "cell_type": "code",
   "execution_count": 14,
   "metadata": {},
   "outputs": [],
   "source": [
    "# Replace No-Show strings by binary integers and invert logic of column (more intuitive)\n",
    "df.rename(columns={'No-show' : 'Attended'}, inplace=True)\n",
    "df['Attended'] = df['Attended'].apply(lambda x: 0 if x=='Yes' else 1)"
   ]
  },
  {
   "cell_type": "markdown",
   "metadata": {},
   "source": [
    "Earlier we saw that the binary \"Handcap\" column contains values, which are erroneous. We first need to check how many of those erroneous values exist:"
   ]
  },
  {
   "cell_type": "code",
   "execution_count": 15,
   "metadata": {},
   "outputs": [
    {
     "data": {
      "text/plain": [
       "199"
      ]
     },
     "execution_count": 15,
     "metadata": {},
     "output_type": "execute_result"
    }
   ],
   "source": [
    "# How many erroneous records are related to the Handicap column\n",
    "df[~df['Handcap'].isin([0,1])].shape[0]"
   ]
  },
  {
   "cell_type": "markdown",
   "metadata": {},
   "source": [
    "The amount of erroneous values seems significantly larger than the previously dropped unlogical values for the appointment time. Hence, before simply dropping those rows entirely, we should check whether there is a way to keep that information.<br>\n",
    "For this, we are going to compare the histograms of all values in these rows between the entire dataset and the rows, which only contain the erroneous data. If these histograms look similar, we could just replace the the erroneous values with some measure of central tendency."
   ]
  },
  {
   "cell_type": "code",
   "execution_count": 16,
   "metadata": {},
   "outputs": [
    {
     "data": {
      "image/png": "[encoded data removed]",
      "text/plain": [
       "<Figure size 720x576 with 9 Axes>"
      ]
     },
     "metadata": {
      "needs_background": "light"
     },
     "output_type": "display_data"
    }
   ],
   "source": [
    "# Plot distribution of all variables to compare to erroneous HandCap variables\n",
    "df.hist(figsize=(10,8));"
   ]
  },
  {
   "cell_type": "markdown",
   "metadata": {},
   "source": [
    "Above, we shown the histograms over the entire dataset. To complete this analysis, we need to compute the histograms also for the rows containing the erroneous values."
   ]
  },
  {
   "cell_type": "code",
   "execution_count": 17,
   "metadata": {},
   "outputs": [
    {
     "data": {
      "image/png": "[encoded data removed]",
      "text/plain": [
       "<Figure size 720x576 with 9 Axes>"
      ]
     },
     "metadata": {
      "needs_background": "light"
     },
     "output_type": "display_data"
    }
   ],
   "source": [
    "# How do distributions of erroneous values compare?\n",
    "df[~df['Handcap'].isin([0,1])].hist(figsize=(10,8));"
   ]
  },
  {
   "cell_type": "markdown",
   "metadata": {},
   "source": [
    "Comparing the two versions of the histograms, it becomes apparent, that the distributions of all variables seem to be very similar for the erroneous rows and the general dataset. Hence, it seems like a reasonable choice to not drop the erroneous rows but to instead impute them with the mode over the entire dataset. The mode is the most reasonable choice here, since the \"Handcap\" column consists of binary integer values while the mean would yield a real (floating point number). The median on the other hand would in this case yield the same value as the mode."
   ]
  },
  {
   "cell_type": "code",
   "execution_count": 18,
   "metadata": {},
   "outputs": [],
   "source": [
    "# Distributions similar: Replace erroneous HandCap values by mode\n",
    "df.loc[~df['Handcap'].isin([0,1]), 'Handcap'] = df['Handcap'].mode().iloc[0]"
   ]
  },
  {
   "cell_type": "markdown",
   "metadata": {},
   "source": [
    "<a id='eda'></a>\n",
    "## Exploratory Data Analysis\n",
    "\n",
    "> **Tip**: Now that you've trimmed and cleaned your data, you're ready to move on to exploration. **Compute statistics** and **create visualizations** with the goal of addressing the research questions that you posed in the Introduction section. You should compute the relevant statistics throughout the analysis when an inference is made about the data. Note that at least two or more kinds of plots should be created as part of the exploration, and you must  compare and show trends in the varied visualizations. \n",
    "\n",
    "\n",
    "\n",
    "> **Tip**: - Investigate the stated question(s) from multiple angles. It is recommended that you be systematic with your approach. Look at one variable at a time, and then follow it up by looking at relationships between variables. You should explore at least three variables in relation to the primary question. This can be an exploratory relationship between three variables of interest, or looking at how two independent variables relate to a single dependent variable of interest. Lastly, you  should perform both single-variable (1d) and multiple-variable (2d) explorations.\n",
    "\n",
    "\n",
    "### Research Question 1: Effect of conditional variables on missing an appointment"
   ]
  },
  {
   "cell_type": "markdown",
   "metadata": {},
   "source": [
    "Define functions to ease making multiple graphs for different categories since all those\n",
    "subplots are essentially identical with only the data changing."
   ]
  },
  {
   "cell_type": "code",
   "execution_count": 19,
   "metadata": {},
   "outputs": [],
   "source": [
    "# Function to plot total number of people in a given binary category\n",
    "def plot_hist_binary_pure(col, ax, ylabel=False):\n",
    "    ax.bar([0,1], df[col].value_counts().sort_index(), alpha=0.5);\n",
    "    ax.set_title(f\"Histogram for variable '{col}'\")\n",
    "    ax.set_xticks((0,1))\n",
    "    ax.set_xticklabels( ['No','Yes'])\n",
    "    ax.set_xlabel(col)\n",
    "    if ylabel: ax.set_ylabel(\"Nr. of occurences\")"
   ]
  },
  {
   "cell_type": "code",
   "execution_count": 20,
   "metadata": {},
   "outputs": [],
   "source": [
    "#  Function to plot number of people with and without  a given condition\n",
    "#  who have missed and attended an appointment\n",
    "def plot_hist_binary_separate(col, ax, ylabel=False):\n",
    "    ax.bar([0,1], df[col][df['Attended']==0].value_counts().sort_index(), label=\"Not Attended\", alpha=0.5);\n",
    "    ax.bar([0,1], df[col][df['Attended']==1].value_counts().sort_index(), label=\"Attended\", alpha=0.5);\n",
    "    \n",
    "    ax.set_title(f\"Attended given condition: '{col}'\")\n",
    "    ax.set_xticks((0,1))\n",
    "    ax.set_xticklabels( ['No','Yes'])\n",
    "    ax.set_xlabel(col)\n",
    "    if ylabel: ax.set_ylabel(\"Nr. of occurences\")"
   ]
  },
  {
   "cell_type": "markdown",
   "metadata": {},
   "source": [
    "Get an overview over the amount of people with and without a given condition (e.g. alcoholism) by making histograms for those binary variables."
   ]
  },
  {
   "cell_type": "code",
   "execution_count": 30,
   "metadata": {},
   "outputs": [
    {
     "data": {
      "image/png": "[encoded data removed]",
      "text/plain": [
       "<Figure size 1152x576 with 6 Axes>"
      ]
     },
     "metadata": {
      "needs_background": "light"
     },
     "output_type": "display_data"
    }
   ],
   "source": [
    "# Make histogramms for the six binary variables of interest\n",
    "fig, axs = plt.subplots(2,3, figsize=(16, 8))\n",
    "\n",
    "plt.subplots_adjust(wspace=0.4, hspace=0.3)\n",
    "plot_hist_binary_pure('Scholarship',axs[0,0], ylabel=True)\n",
    "plot_hist_binary_pure('Hipertension',axs[0,1])\n",
    "plot_hist_binary_pure('Diabetes',axs[0,2])\n",
    "plot_hist_binary_pure('Alcoholism',axs[1,0], ylabel=True)\n",
    "plot_hist_binary_pure('Handcap',axs[1,1])\n",
    "plot_hist_binary_pure('SMS_received',axs[1,2])"
   ]
  },
  {
   "cell_type": "markdown",
   "metadata": {},
   "source": [
    "Plot the number of people within each of those categories who missed and attended appointments."
   ]
  },
  {
   "cell_type": "code",
   "execution_count": 24,
   "metadata": {},
   "outputs": [
    {
     "data": {
      "image/png": "[encoded data removed]",
      "text/plain": [
       "<Figure size 1152x576 with 6 Axes>"
      ]
     },
     "metadata": {
      "needs_background": "light"
     },
     "output_type": "display_data"
    }
   ],
   "source": [
    "# Make plots for each binary variable showing the number of people who \n",
    "# did not and did attend an appointment\n",
    "fig, axs = plt.subplots(2,3, figsize=(16, 8))\n",
    "\n",
    "plt.subplots_adjust(wspace=0.4, hspace=0.3)\n",
    "plot_hist_binary_separate('Scholarship',axs[0,0], ylabel=True)\n",
    "axs[0,0].legend()\n",
    "plot_hist_binary_separate('Hipertension',axs[0,1])\n",
    "plot_hist_binary_separate('Diabetes',axs[0,2])\n",
    "plot_hist_binary_separate('Alcoholism',axs[1,0], ylabel=True)\n",
    "plot_hist_binary_separate('Handcap',axs[1,1])\n",
    "plot_hist_binary_separate('SMS_received',axs[1,2])"
   ]
  },
  {
   "cell_type": "markdown",
   "metadata": {},
   "source": [
    "Lastly, take a look of the percentages of people with a given condition who did attend an appointment.\n",
    "Compare these values to the general population, which should serve here as a reference for making conclusions\n",
    "about the deviatioins."
   ]
  },
  {
   "cell_type": "code",
   "execution_count": 119,
   "metadata": {},
   "outputs": [],
   "source": [
    "# Function for plotting percentage of people with a given condition (e.g. having alcoholism) \n",
    "# who attended an appointment\n",
    "def plot_percentages(col,idx):\n",
    "    mask = (df[col]==1) & (df['Attended']==1)\n",
    "    plt.bar([idx],df[col][mask].count()/df[df[col]==1].shape[0], color=\"orange\")"
   ]
  },
  {
   "cell_type": "code",
   "execution_count": 120,
   "metadata": {},
   "outputs": [
    {
     "data": {
      "image/png": "[encoded data removed]",
      "text/plain": [
       "<Figure size 720x432 with 1 Axes>"
      ]
     },
     "metadata": {
      "needs_background": "light"
     },
     "output_type": "display_data"
    }
   ],
   "source": [
    "# Plot the above mentioned percentages for each binary variable in a single plot\n",
    "# for a better comparison\n",
    "plt.figure(figsize=(10,6))\n",
    "plot_percentages('Scholarship',1)\n",
    "plot_percentages('Hipertension',2)\n",
    "plot_percentages('Diabetes',3)\n",
    "plot_percentages('Alcoholism',4)\n",
    "plot_percentages('Handcap',5)\n",
    "plot_percentages('SMS_received',6)\n",
    "\n",
    "# Additionally, compute the percentage of people of the general population who attended an appointment\n",
    "plt.bar([7],df['Attended'][df['Attended']==1].count()/df.shape[0])\n",
    "plt.title(\"Fractions of People Who Attended a Meeting given a Certain Condition\")\n",
    "plt.xlabel(\"Condition\", fontsize=14)\n",
    "plt.ylabel('Attendendencies [%]')\n",
    "plt.xticks([i for i in range(1,8)], list(cols_bin) + ['General']);"
   ]
  },
  {
   "cell_type": "markdown",
   "metadata": {},
   "source": [
    "<h2> Conclusions of Subsection </h2>\n",
    "From the above analysis, the following conclusions can be made:\n",
    "<ul>\n",
    "    <li> There are generally more people who attended the appointment than ones who missed an appointment,\n",
    "        irrespective of the condition those people have. </li>\n",
    "    <li> Some conditions appear much more often than others - e.g. alcoholism is about 20 times more rare than\n",
    "        hypertension. For the analysis this implies that the results may difficult to generalize since the data\n",
    "        points for some conditions may not be sufficient to make statistically relevant conclusions. However,\n",
    "        trends can still be compared. </li>\n",
    "    <li> The total number of people with a certain condition, who did not attend an appointment, seems to be\n",
    "        generally much smaller than the amount of people without that condition who did not attend an\n",
    "        appointment. This may seem obvious but there is one notable exception for people who received a SMS\n",
    "        reminder. Even though, the number of people, who received a SMS, is much smaller than the ones,\n",
    "        who did not receive one, the number of people who missed the appointment is almost identical between\n",
    "        those two groups. </li>\n",
    "    <li> The above point is also reflected in the percentages of people with a condition who did attend an\n",
    "        appointment. While percentages of people with Hypertension, Diabetes, alcoholism and people with a\n",
    "        handycap are very similar to each other and also closely resemble to the number of the general \n",
    "        population, people who received a SMS attended the appointments far less often. Also, the percentage\n",
    "        of people with a scholarship who attended an appointment seems lower, even though the effect here seems\n",
    "        smaller than for people who received a SMS. </li>\n",
    "</ul>\n",
    "\n",
    "All in all, the effect of the investigated conditions (binary variables) on missing an appointment is much smaller than anticipated. Looking at the relative values of people who missed attended an appointment, there are no big outliers but for all conditions the percentage is around 70 % - 80 %.\n",
    "\n",
    "However, it seems rather counterintuitive that people who received a SMS reminder and people who hold a scholarship seem to miss appointments more often than the general population and the remaining conditions. It may be that these two variables are correlated to others in a non-trivial way, i.e. that only certain types of people receive a SMS reminder or hold a scholarship. However, this is beyond the scope of the current work and requires a thorough analysis on its own."
   ]
  },
  {
   "cell_type": "markdown",
   "metadata": {},
   "source": [
    "### Research Question 2: Effect of timespan between scheduling an appointment and the actual appointment on missing an appointment"
   ]
  },
  {
   "cell_type": "markdown",
   "metadata": {},
   "source": [
    "Plot the fraction of appointments in each category (attended or missed) as function of the difference between scheduling day and appointment day. From that we should be able to see if there is any difference in the distributions of appointments., i.e. whether the one of those categories has more tightly packed appointments."
   ]
  },
  {
   "cell_type": "code",
   "execution_count": 116,
   "metadata": {},
   "outputs": [
    {
     "data": {
      "text/plain": [
       "<matplotlib.legend.Legend at 0x7fd65cb2f730>"
      ]
     },
     "execution_count": 116,
     "metadata": {},
     "output_type": "execute_result"
    },
    {
     "data": {
      "image/png": "[encoded data removed]",
      "text/plain": [
       "<Figure size 1008x576 with 1 Axes>"
      ]
     },
     "metadata": {
      "needs_background": "light"
     },
     "output_type": "display_data"
    }
   ],
   "source": [
    "plt.figure(figsize=(14,8))\n",
    "\n",
    "# Plot number of attended appointments as function time difference (normalized to the total appointments)\n",
    "plt.scatter(df['TimeDiff'][df['Attended']==1].value_counts().sort_values().index.total_seconds()/(3600*24),\n",
    "         df['TimeDiff'][df['Attended']==1].value_counts().sort_values()/df[df['Attended']==1].shape[0]*100, \n",
    "            alpha=0.5, label=\"Attended\")\n",
    "\n",
    "# Plot number of missed appointments as function time difference (normalized to the total appointments)\n",
    "plt.scatter(df['TimeDiff'][df['Attended']==0].value_counts().sort_values().index.total_seconds()/(3600*24),\n",
    "         df['TimeDiff'][df['Attended']==0].value_counts().sort_values()/df[df['Attended']==0].shape[0]*100,\n",
    "            alpha=0.5, label=\"Missed\")\n",
    "\n",
    "plt.xlabel(\"Time difference between schedule and appointment day [d]\")\n",
    "plt.title(\"Fraction of People Who Attended/Missed an Appointment as Function of Timespan\")\n",
    "plt.ylabel(\"Fraction of appointments [%]\")\n",
    "plt.legend()"
   ]
  },
  {
   "cell_type": "markdown",
   "metadata": {},
   "source": [
    "Compute measures of central tendency for the time difference to verify what was seen visually in the plot above."
   ]
  },
  {
   "cell_type": "code",
   "execution_count": 112,
   "metadata": {},
   "outputs": [
    {
     "name": "stdout",
     "output_type": "stream",
     "text": [
      "Statistics for time difference of people who attended an appointment\n",
      "Mean: 8 days 18:06:42.575730\n",
      "Median: 2 days 00:00:00\n",
      "Standard Deviation: 14 days 13:12:34.372311\n",
      "\n",
      "Statistics for time difference of people who missed an appointment\n",
      "Mean: 15 days 20:03:05.856413\n",
      "Median: 11 days 00:00:00\n",
      "Standard Deviation: 16 days 14:32:03.799276\n",
      "\n"
     ]
    }
   ],
   "source": [
    "print(\"Statistics for time difference of people who attended an appointment\")\n",
    "print(f\"Mean: {df['TimeDiff'][df['Attended']==1].mean()}\")\n",
    "print(f\"Median: {df['TimeDiff'][df['Attended']==1].median()}\")\n",
    "print(f\"Standard Deviation: {df['TimeDiff'][df['Attended']==1].std()}\\n\")\n",
    "\n",
    "print(\"Statistics for time difference of people who missed an appointment\")\n",
    "print(f\"Mean: {df['TimeDiff'][df['Attended']==0].mean()}\")\n",
    "print(f\"Median: {df['TimeDiff'][df['Attended']==0].median()}\")\n",
    "print(f\"Standard Deviation: {df['TimeDiff'][df['Attended']==0].std()}\\n\")"
   ]
  },
  {
   "cell_type": "markdown",
   "metadata": {},
   "source": [
    "<h2> Conclusions of Subsection </h2>\n",
    "From the above analysis, the following conclusions can be made:\n",
    "\n",
    "<ul>\n",
    "    <li> The graph above and the statistics show that for people who missed an appointment, the timespan\n",
    "        between scheduling and the appointment was conssistenly larger than for people who attended\n",
    "        an appointment. </li>\n",
    "    <li> Maybe more importantly, for people who attended an appointment almost 45 % of all appointments were\n",
    "        scheduled on the same day as the appointment was. A possible explanation for this is that these were\n",
    "        urgent appointments which are unlikely to be missed. </li>\n",
    "    <li> For missed appointments, on the other hand, there is more spread (also larger standard deviation)\n",
    "        in the timespan and significantly far less appointments were scheduled on the same day.\n",
    "</ul>"
   ]
  },
  {
   "cell_type": "markdown",
   "metadata": {},
   "source": [
    "<a id='conclusions'></a>\n",
    "## Conclusions\n",
    "\n",
    "For more detailed conclusions see the conclusions of the individual subsections.\n",
    "\n",
    "<ul>\n",
    "    <li> The effect of the conditonal variables was far less than it would have been anticipated. However,\n",
    "        figuring out that those binary variables/conditioins do not have a strong impact on missing an\n",
    "        appointment can also be valuable. Even though, some counterintuitive trends could be observed\n",
    "        (e.g. receiving a SMS actually increases the chance of missing an appointment), this conclusion might\n",
    "        be flawed due to the fact that it is not clear whether those trends are actually statistically\n",
    "        significant since no statistical tests have been performed. Additionally, some of those conditions\n",
    "    might be entangled with each other or with some other hidden variables, which also would require\n",
    "    a much more sophisticated analysis.</li>\n",
    "    <li> The effect of the timespan between scheduling an appointment and the actual appointment yields a\n",
    "        more clear conclusion. Especially, the fact that a major distinctioin between the missed appointments\n",
    "        and the attended ones is that almost half of all attended appointments were scheduled on the same day.\n",
    "        Apart from that, the timespan seems generally larger for the missed appointments than for\n",
    "        the attended ones (the mean is almost doubles between these two) and the spread is increased. \n",
    "        However, also here it is not clear whether those observed differences are significant due to the \n",
    "        lack of statistical tests. </li>\n",
    "</ul>"
   ]
  },
  {
   "cell_type": "markdown",
   "metadata": {},
   "source": [
    "## References\n",
    "\n",
    "N/A"
   ]
  },
  {
   "cell_type": "code",
   "execution_count": null,
   "metadata": {
    "collapsed": true
   },
   "outputs": [],
   "source": [
    "from subprocess import call\n",
    "call(['python', '-m', 'nbconvert', 'Investigate_a_Dataset.ipynb'])"
   ]
  }
 ],
 "metadata": {
  "kernelspec": {
   "display_name": "Python 3",
   "language": "python",
   "name": "python3"
  },
  "language_info": {
   "codemirror_mode": {
    "name": "ipython",
    "version": 3
   },
   "file_extension": ".py",
   "mimetype": "text/x-python",
   "name": "python",
   "nbconvert_exporter": "python",
   "pygments_lexer": "ipython3",
   "version": "3.8.3"
  }
 },
 "nbformat": 4,
 "nbformat_minor": 2
}
